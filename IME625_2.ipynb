{
  "nbformat": 4,
  "nbformat_minor": 0,
  "metadata": {
    "colab": {
      "name": "IME625 2.ipynb",
      "provenance": [],
      "collapsed_sections": []
    },
    "kernelspec": {
      "name": "python3",
      "display_name": "Python 3"
    },
    "language_info": {
      "name": "python"
    }
  },
  "cells": [
    {
      "cell_type": "code",
      "metadata": {
        "id": "wuHbbTPywi_5"
      },
      "source": [
        "# AIM: To Decrypt a text using MCMC approach. i.e. find decryption key which we will call cipher from now on.\n",
        "import string\n",
        "import math\n",
        "import random\n",
        "\n",
        "# This function takes as input a decryption key and creates a dict for key where each letter in the decryption key\n",
        "# maps to a alphabet For example if the decryption key is \"DGHJKL....\" this function will create a dict like {D:A,G:B,H:C....} \n",
        "def create_cipher_dict(cipher):\n",
        "    cipher_dict = {}\n",
        "    alphabet_list = list(string.ascii_uppercase)\n",
        "    for i in range(len(cipher)):\n",
        "        cipher_dict[alphabet_list[i]] = cipher[i]\n",
        "    return cipher_dict\n",
        "\n",
        "# This function takes a text and applies the cipher/key on the text and returns text.//text here is corrected one and cipher is encryption key\n",
        "def apply_cipher_on_text(text,cipher):\n",
        "    cipher_dict = create_cipher_dict(cipher) \n",
        "    text = list(text)\n",
        "    newtext = \"\"\n",
        "    for elem in text:\n",
        "        if elem.upper() in cipher_dict:\n",
        "            newtext+=cipher_dict[elem.upper()]\n",
        "        else:\n",
        "            newtext+=\" \"\n",
        "    return newtext"
      ],
      "execution_count": null,
      "outputs": []
    },
    {
      "cell_type": "markdown",
      "metadata": {
        "id": "TVTfSL7c2Iq4"
      },
      "source": [
        ""
      ]
    },
    {
      "cell_type": "code",
      "metadata": {
        "id": "8FpyQ_V4wxSH"
      },
      "source": [
        "# This function takes as input a path to a long text and creates scoring_params dict which contains the \n",
        "# number of time each pair of alphabet appears together\n",
        "# Ex. {'AB':234,'TH':2343,'CD':23 ..}\n",
        "def create_scoring_params_dict(longtext_path):\n",
        "    scoring_params = {}\n",
        "    alphabet_list = list(string.ascii_uppercase)\n",
        "    with open(longtext_path) as fp:\n",
        "        for line in fp:\n",
        "            data = list(line.strip())\n",
        "            for i in range(len(data)-1):\n",
        "                alpha_i = data[i].upper()\n",
        "                alpha_j = data[i+1].upper()\n",
        "                if alpha_i not in alphabet_list and alpha_i != \" \":\n",
        "                    alpha_i = \" \"\n",
        "                if alpha_j not in alphabet_list and alpha_j != \" \":\n",
        "                    alpha_j = \" \"\n",
        "                key = alpha_i+alpha_j\n",
        "                if key in scoring_params:\n",
        "                    scoring_params[key]+=1\n",
        "                else:\n",
        "                    scoring_params[key]=1\n",
        "    return scoring_params\n",
        "\n",
        "# This function takes as input a text and creates scoring_params dict which contains the \n",
        "# number of time each pair of alphabet appears together\n",
        "# Ex. {'AB':234,'TH':2343,'CD':23 ..}\n",
        "#text = DEcoded \n",
        "def score_params_on_cipher(text):\n",
        "    scoring_params = {}\n",
        "    alphabet_list = list(string.ascii_uppercase)\n",
        "    data = list(text.strip())\n",
        "    for i in range(len(data)-1):\n",
        "        alpha_i =data[i].upper()\n",
        "        alpha_j = data[i+1].upper()\n",
        "        if alpha_i not in alphabet_list and alpha_i != \" \":\n",
        "            alpha_i = \" \"\n",
        "        if alpha_j not in alphabet_list and alpha_j != \" \":\n",
        "            alpha_j = \" \"\n",
        "        key = alpha_i+alpha_j\n",
        "        if key in scoring_params:\n",
        "            scoring_params[key]+=1\n",
        "        else:\n",
        "            scoring_params[key]=1\n",
        "    return scoring_params\n",
        "\n",
        "# This function takes the text to be decrypted and a cipher to score the cipher.\n",
        "# This function returns the log(score) metric\n",
        "\n",
        "def get_cipher_score(text,cipher,scoring_params,plain_text):\n",
        "    cipher_dict = create_cipher_dict(cipher)#Dict is mapping the alphabet to key\n",
        "    decrypted_text = apply_cipher_on_text(text,cipher)\n",
        "    scored_f = score_params_on_cipher(decrypted_text)#We get array of no of pairs of words\n",
        "    cipher_score = 0\n",
        "    for k,v in scored_f.items():\n",
        "        if k in scoring_params:\n",
        "            cipher_score += v*math.log(scoring_params[k])\n",
        "    my_score = 0\n",
        "    for i in range(len(plain_text)):\n",
        "        my_score+=int(plain_text[i]==decrypted_text[i])\n",
        "    fraction = my_score/len(plain_text)\n",
        "    return cipher_score,fraction\n",
        "\n"
      ],
      "execution_count": null,
      "outputs": []
    },
    {
      "cell_type": "code",
      "metadata": {
        "id": "Ls4kqTwDw8gx"
      },
      "source": [
        "# Generate a proposal cipher by swapping letters at two random location\n",
        "def generate_cipher(cipher):\n",
        "    pos1 = random.randint(0, len(list(cipher))-1)\n",
        "    pos2 = random.randint(0, len(list(cipher))-1)\n",
        "    if pos1 == pos2:\n",
        "        return generate_cipher(cipher)\n",
        "    else:\n",
        "        cipher = list(cipher)\n",
        "        pos1_alpha = cipher[pos1]\n",
        "        pos2_alpha = cipher[pos2]\n",
        "        cipher[pos1] = pos2_alpha\n",
        "        cipher[pos2] = pos1_alpha\n",
        "        return \"\".join(cipher)\n",
        "\n",
        "# Toss a random coin with robability of head p. If coin comes head return true else false.\n",
        "def random_coin(p):\n",
        "    unif = random.uniform(0,1)\n",
        "    if unif>=p:\n",
        "        return False\n",
        "    else:\n",
        "        return True"
      ],
      "execution_count": null,
      "outputs": []
    },
    {
      "cell_type": "code",
      "metadata": {
        "id": "z9z-UTnqxArJ"
      },
      "source": [
        "# Takes as input a text to decrypt and runs a MCMC algorithm for n_iter. Returns the state having maximum score and also\n",
        "# the last few states \n",
        "# Cipher test = incorrect text\n",
        "def MCMC_decrypt(n_iter,cipher_text,scoring_params,plain_text):\n",
        "\n",
        "    current_cipher = string.ascii_uppercase # Generate a random key to start\n",
        "    state_keeper = set()\n",
        "    best_state = ''\n",
        "    score = 0\n",
        "    history = []\n",
        "    for i in range(n_iter):\n",
        "        state_keeper.add(current_cipher)\n",
        "        proposed_cipher = generate_cipher(current_cipher)\n",
        "        score_current_cipher,fraction1 = get_cipher_score(cipher_text,current_cipher,scoring_params,plain_text)\n",
        "        score_proposed_cipher,fraction2 = get_cipher_score(cipher_text,proposed_cipher,scoring_params,plain_text)\n",
        "        acceptance_probability = min(1,math.exp(score_proposed_cipher-score_current_cipher))\n",
        "        if score_current_cipher>score:\n",
        "            best_state = current_cipher\n",
        "        if random_coin(acceptance_probability):\n",
        "            current_cipher = proposed_cipher\n",
        "        if i%500==0:\n",
        "            history.append(fraction2)\n",
        "            print(\"iter\",i,\":\",apply_cipher_on_text(cipher_text,current_cipher)[0:99])\n",
        "    return state_keeper,best_state,history"
      ],
      "execution_count": null,
      "outputs": []
    },
    {
      "cell_type": "code",
      "metadata": {
        "id": "QNljNCwNxEvd",
        "colab": {
          "base_uri": "https://localhost:8080/"
        },
        "outputId": "ff8afa19-76d5-4695-c295-debd5ae02c91"
      },
      "source": [
        "## Run the Main Program:\n",
        "\n",
        "scoring_params = create_scoring_params_dict('War_and_Peace.txt')\n",
        "\n",
        "plain_text = \"I am your faithfulslave, and I can confess it to you alone .My children are the stumbling-blocks of my existence. This is my cross. That is the way that I explain it to myself.Que voulez -vous\"\n",
        "\n",
        "encryption_key = \"XEBPROHYAUFTIDSJLKZMWVNGQC\"\n",
        "cipher_text = apply_cipher_on_text(plain_text,encryption_key)#We get now an incorrect form of the text\n",
        "decryption_key = \"ICZNBKXGMPRQTWFDYEOLJVUAHS\"\n",
        "\n",
        "print(\"Text To Decode:\", cipher_text)\n",
        "print(\"\\n\")\n",
        "states,best_state,history = MCMC_decrypt(10000,cipher_text,scoring_params,plain_text)#Scoring params no of times a pair appeares in the given book,plain text = correct text\n",
        "print(\"\\n\")\n",
        "print(\"Decoded Text:\",apply_cipher_on_text(cipher_text,best_state))\n",
        "print(\"\\n\")\n",
        "print(\"MCMC KEY FOUND:\",best_state)\n",
        "print(\"ACTUAL DECRYPTION KEY:\",decryption_key)\n"
      ],
      "execution_count": null,
      "outputs": [
        {
          "output_type": "stream",
          "text": [
            "Text To Decode: A XI QSWK OXAMYOWTZTXVR  XDP A BXD BSDORZZ AM MS QSW XTSDR  IQ BYATPKRD XKR MYR ZMWIETADH ETSBFZ SO IQ RGAZMRDBR  MYAZ AZ IQ BKSZZ  MYXM AZ MYR NXQ MYXM A RGJTXAD AM MS IQZRTO LWR VSWTRC  VSWZ\n",
            "\n",
            "\n",
            "iter 0 : A XI QSWK OXAMYOWTZTXVR  XDP A BXD BSDORZZ AM MS QSW XTSDR  IQ BYATPKRD XKR MYR ZMWIETADH ETSBFZ SO\n",
            "iter 500 : A IB UOMY VIATHVMSRSICE  INK A LIN LONVERR AT TO UOM ISONE  BU LHASKYEN IYE THE RTMBWSANG WSOLDR OV\n",
            "iter 1000 : I AB YOUN MAITHMULSLACE  ARG I WAR WORMESS IT TO YOU ALORE  BY WHILGNER ANE THE STUBPLIRZ PLOWKS OM\n",
            "iter 1500 : I AM YOUR DAITHDULSLAFE  ANB I CAN CONDESS IT TO YOU ALONE  MY CHILBREN ARE THE STUMPLING PLOCKS OD\n",
            "iter 2000 : I AM YOUL DAITHDURSRAWE  ANG I CAN CONDESS IT TO YOU ARONE  MY CHIRGLEN ALE THE STUMPRINZ PROCKS OD\n",
            "iter 2500 : I AM YOUL DAITHDURSRABE  ANG I CAN CONDESS IT TO YOU ARONE  MY CHIRGLEN ALE THE STUMPRINF PROCKS OD\n",
            "iter 3000 : A IM YOUL DIATHDURSRIBE  ING A CIN CONDESS AT TO YOU IRONE  MY CHARGLEN ILE THE STUMPRANZ PROCKS OD\n",
            "iter 3500 : A IM YOUL DIATHDURSRIBE  ING A CIN CONDESS AT TO YOU IRONE  MY CHARGLEN ILE THE STUMPRANJ PROCKS OD\n",
            "iter 4000 : A IM YOUL DIATHDURSRIBE  ING A CIN CONDESS AT TO YOU IRONE  MY CHARGLEN ILE THE STUMPRANZ PROCKS OD\n",
            "iter 4500 : I AM YOUL DAITHDURSRABE  ANG I CAN CONDESS IT TO YOU ARONE  MY CHIRGLEN ALE THE STUMPRINJ PROCKS OD\n",
            "iter 5000 : I AM YOUR FAITHFULSLAWE  AND I CAN CONFESS IT TO YOU ALONE  MY CHILDREN ARE THE STUMPLINJ PLOCKS OF\n",
            "iter 5500 : I AM YOUR FAITHFULSLABE  AND I CAN CONFESS IT TO YOU ALONE  MY CHILDREN ARE THE STUMPLING PLOCKS OF\n",
            "iter 6000 : I AM YOUR DAITHDULSLABE  ANF I CAN CONDESS IT TO YOU ALONE  MY CHILFREN ARE THE STUMPLING PLOCKS OD\n",
            "iter 6500 : I AM YOUR FAITHFULSLABE  AND I CAN CONFESS IT TO YOU ALONE  MY CHILDREN ARE THE STUMPLING PLOCKS OF\n",
            "iter 7000 : I AM YOUR DAITHDULSLABE  ANF I CAN CONDESS IT TO YOU ALONE  MY CHILFREN ARE THE STUMPLING PLOCKS OD\n",
            "iter 7500 : I AM YOUR FAITHFULSLAWE  AND I CAN CONFESS IT TO YOU ALONE  MY CHILDREN ARE THE STUMBLING BLOCKS OF\n",
            "iter 8000 : I AM YOUR FAITHFULSLAVE  AND I CAN CONFESS IT TO YOU ALONE  MY CHILDREN ARE THE STUMBLING BLOCKS OF\n",
            "iter 8500 : I AM YOUR DAITHDULSLAWE  ANF I CAN CONDESS IT TO YOU ALONE  MY CHILFREN ARE THE STUMBLING BLOCKS OD\n",
            "iter 9000 : A IM YOUR FIATHFULSLIVE  IND A CIN CONFESS AT TO YOU ILONE  MY CHALDREN IRE THE STUMBLANG BLOCKS OF\n",
            "iter 9500 : I AM YOUR FAITHFULSLAWE  AND I CAN CONFESS IT TO YOU ALONE  MY CHILDREN ARE THE STUMBLING BLOCKS OF\n",
            "\n",
            "\n",
            "Decoded Text: I AM YOUR FAITHFULSLAWE  AND I CAN CONFESS IT TO YOU ALONE  MY CHILDREN ARE THE STUMBLING BLOCKS OF MY EXISTENCE  THIS IS MY CROSS  THAT IS THE VAY THAT I EXPLAIN IT TO MYSELF JUE WOULEZ  WOUS\n",
            "\n",
            "\n",
            "MCMC KEY FOUND: ICZNBKXGMPRJTVFDYEOLQWUAHS\n",
            "ACTUAL DECRYPTION KEY: ICZNBKXGMPRQTWFDYEOLJVUAHS\n"
          ],
          "name": "stdout"
        }
      ]
    },
    {
      "cell_type": "code",
      "metadata": {
        "colab": {
          "base_uri": "https://localhost:8080/",
          "height": 320
        },
        "id": "mq73kCoWkAfZ",
        "outputId": "cf332376-1002-4d3b-cbd6-2364ae924db4"
      },
      "source": [
        "import matplotlib.pyplot as plt\n",
        "print(history)\n",
        "n_iter = 10000//500\n",
        "x = [i for i in range(n_iter)]\n",
        "plt.plot(x,history)"
      ],
      "execution_count": null,
      "outputs": [
        {
          "output_type": "stream",
          "text": [
            "[0.18229166666666666, 0.18229166666666666, 0.19791666666666666, 0.21875, 0.21354166666666666, 0.21354166666666666, 0.19791666666666666, 0.19270833333333334, 0.19270833333333334, 0.203125, 0.21875, 0.21875, 0.21875, 0.21354166666666666, 0.21875, 0.21354166666666666, 0.21354166666666666, 0.20833333333333334, 0.19791666666666666, 0.19791666666666666]\n"
          ],
          "name": "stdout"
        },
        {
          "output_type": "execute_result",
          "data": {
            "text/plain": [
              "[<matplotlib.lines.Line2D at 0x7fb01c2f8ed0>]"
            ]
          },
          "metadata": {
            "tags": []
          },
          "execution_count": 14
        },
        {
          "output_type": "display_data",
          "data": {
            "image/png": "[encoded data removed]",
            "text/plain": [
              "<Figure size 432x288 with 1 Axes>"
            ]
          },
          "metadata": {
            "tags": [],
            "needs_background": "light"
          }
        }
      ]
    },
    {
      "cell_type": "code",
      "metadata": {
        "id": "8Mx1DktJod_3"
      },
      "source": [
        ""
      ],
      "execution_count": null,
      "outputs": []
    }
  ]
}